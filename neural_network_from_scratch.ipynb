{
 "cells": [
  {
   "cell_type": "code",
   "execution_count": 18,
   "id": "74f28388",
   "metadata": {},
   "outputs": [],
   "source": [
    "import pandas as pd\n",
    "import numpy as np\n",
    "from matplotlib import pyplot as plt"
   ]
  },
  {
   "cell_type": "code",
   "execution_count": 6,
   "id": "b4aa63f4",
   "metadata": {},
   "outputs": [],
   "source": [
    "data = pd.read_csv('archive/mnist_train.csv')"
   ]
  },
  {
   "cell_type": "code",
   "execution_count": 7,
   "id": "039b89e2",
   "metadata": {},
   "outputs": [],
   "source": [
    "data = np.array(data)\n",
    "m, n = data.shape\n",
    "np.random.shuffle(data) # shuffle before splitting into dev and training sets\n",
    "\n",
    "data_dev = data[0:1000].T\n",
    "Y_dev = data_dev[0]\n",
    "X_dev = data_dev[1:n]\n",
    "X_dev = X_dev / 255.\n",
    "\n",
    "data_train = data[1000:m].T\n",
    "Y_train = data_train[0]\n",
    "X_train = data_train[1:n]\n",
    "X_train = X_train / 255.\n",
    "_,m_train = X_train.shape"
   ]
  },
  {
   "cell_type": "code",
   "execution_count": 10,
   "id": "f9fc2f4a",
   "metadata": {},
   "outputs": [
    {
     "data": {
      "text/plain": [
       "(784,)"
      ]
     },
     "execution_count": 10,
     "metadata": {},
     "output_type": "execute_result"
    }
   ],
   "source": [
    "X_train[:,0].shape"
   ]
  },
  {
   "cell_type": "code",
   "execution_count": 11,
   "id": "03caca70",
   "metadata": {},
   "outputs": [],
   "source": [
    "def init_params():\n",
    "    W1 = np.random.rand(10, 784) - 0.5\n",
    "    b1 = np.random.rand(10, 1) - 0.5\n",
    "    W2 = np.random.rand(10, 10) - 0.5\n",
    "    b2 = np.random.rand(10, 1) - 0.5\n",
    "    return W1, b1, W2, b2\n",
    "\n",
    "def ReLU(Z):\n",
    "    return np.maximum(Z, 0)\n",
    "\n",
    "def softmax(Z):\n",
    "    A = np.exp(Z) / sum(np.exp(Z))\n",
    "    return A\n",
    "    \n",
    "def forward_prop(W1, b1, W2, b2, X):\n",
    "    Z1 = W1.dot(X) + b1\n",
    "    A1 = ReLU(Z1)\n",
    "    Z2 = W2.dot(A1) + b2\n",
    "    A2 = softmax(Z2)\n",
    "    return Z1, A1, Z2, A2\n",
    "\n",
    "def ReLU_deriv(Z):\n",
    "    return Z > 0\n",
    "\n",
    "def one_hot(Y):\n",
    "    one_hot_Y = np.zeros((Y.size, Y.max() + 1))\n",
    "    one_hot_Y[np.arange(Y.size), Y] = 1\n",
    "    one_hot_Y = one_hot_Y.T\n",
    "    return one_hot_Y\n",
    "\n",
    "def backward_prop(Z1, A1, Z2, A2, W1, W2, X, Y):\n",
    "    one_hot_Y = one_hot(Y)\n",
    "    dZ2 = A2 - one_hot_Y\n",
    "    dW2 = 1 / m * dZ2.dot(A1.T)\n",
    "    db2 = 1 / m * np.sum(dZ2)\n",
    "    dZ1 = W2.T.dot(dZ2) * ReLU_deriv(Z1)\n",
    "    dW1 = 1 / m * dZ1.dot(X.T)\n",
    "    db1 = 1 / m * np.sum(dZ1)\n",
    "    return dW1, db1, dW2, db2\n",
    "\n",
    "def update_params(W1, b1, W2, b2, dW1, db1, dW2, db2, alpha):\n",
    "    W1 = W1 - alpha * dW1\n",
    "    b1 = b1 - alpha * db1    \n",
    "    W2 = W2 - alpha * dW2  \n",
    "    b2 = b2 - alpha * db2    \n",
    "    return W1, b1, W2, b2\n"
   ]
  },
  {
   "cell_type": "code",
   "execution_count": 21,
   "id": "3a400f13",
   "metadata": {},
   "outputs": [],
   "source": [
    "def get_predictions(A2):\n",
    "    return np.argmax(A2, 0)\n",
    "\n",
    "def get_accuracy(predictions, Y):\n",
    "    print(predictions, Y)\n",
    "    return np.sum(predictions == Y) / Y.size\n",
    "\n",
    "def gradient_descent(X, Y, alpha, iterations):\n",
    "    W1, b1, W2, b2 = init_params()\n",
    "    for i in range(iterations):\n",
    "        Z1, A1, Z2, A2 = forward_prop(W1, b1, W2, b2, X)\n",
    "        dW1, db1, dW2, db2 = backward_prop(Z1, A1, Z2, A2, W1, W2, X, Y)\n",
    "        W1, b1, W2, b2 = update_params(W1, b1, W2, b2, dW1, db1, dW2, db2, alpha)\n",
    "        if i % 10 == 0:\n",
    "            print(\"Iteration: \", i)\n",
    "            predictions = get_predictions(A2)\n",
    "            print(get_accuracy(predictions, Y))\n",
    "    return W1, b1, W2, b2"
   ]
  },
  {
   "cell_type": "code",
   "execution_count": 22,
   "id": "d74b3831",
   "metadata": {},
   "outputs": [
    {
     "name": "stdout",
     "output_type": "stream",
     "text": [
      "Iteration:  0\n",
      "[9 6 1 ... 4 9 8] [8 4 4 ... 0 0 3]\n",
      "0.07472881355932204\n",
      "Iteration:  10\n",
      "[9 6 1 ... 4 9 8] [8 4 4 ... 0 0 3]\n",
      "0.08147457627118644\n",
      "Iteration:  20\n",
      "[9 6 1 ... 4 9 8] [8 4 4 ... 0 0 3]\n",
      "0.08959322033898305\n",
      "Iteration:  30\n",
      "[9 6 1 ... 4 8 8] [8 4 4 ... 0 0 3]\n",
      "0.09876271186440679\n",
      "Iteration:  40\n",
      "[2 6 1 ... 4 8 8] [8 4 4 ... 0 0 3]\n",
      "0.10661016949152542\n",
      "Iteration:  50\n",
      "[2 6 1 ... 4 8 8] [8 4 4 ... 0 0 3]\n",
      "0.1131864406779661\n",
      "Iteration:  60\n",
      "[2 6 1 ... 4 8 8] [8 4 4 ... 0 0 3]\n",
      "0.11935593220338983\n",
      "Iteration:  70\n",
      "[2 6 1 ... 4 8 8] [8 4 4 ... 0 0 3]\n",
      "0.12471186440677966\n",
      "Iteration:  80\n",
      "[2 6 1 ... 4 8 8] [8 4 4 ... 0 0 3]\n",
      "0.13010169491525422\n",
      "Iteration:  90\n",
      "[2 6 1 ... 4 8 8] [8 4 4 ... 0 0 3]\n",
      "0.13472881355932204\n",
      "Iteration:  100\n",
      "[2 6 1 ... 4 8 8] [8 4 4 ... 0 0 3]\n",
      "0.1389322033898305\n",
      "Iteration:  110\n",
      "[2 6 1 ... 4 8 8] [8 4 4 ... 0 0 3]\n",
      "0.14308474576271185\n",
      "Iteration:  120\n",
      "[2 6 1 ... 4 8 8] [8 4 4 ... 0 0 3]\n",
      "0.1477627118644068\n",
      "Iteration:  130\n",
      "[2 6 1 ... 4 8 8] [8 4 4 ... 0 0 3]\n",
      "0.1527457627118644\n",
      "Iteration:  140\n",
      "[2 6 1 ... 4 8 8] [8 4 4 ... 0 0 3]\n",
      "0.15689830508474575\n",
      "Iteration:  150\n",
      "[2 6 1 ... 4 8 8] [8 4 4 ... 0 0 3]\n",
      "0.16159322033898305\n",
      "Iteration:  160\n",
      "[2 6 1 ... 4 2 8] [8 4 4 ... 0 0 3]\n",
      "0.1669491525423729\n",
      "Iteration:  170\n",
      "[2 6 1 ... 4 2 8] [8 4 4 ... 0 0 3]\n",
      "0.17254237288135593\n",
      "Iteration:  180\n",
      "[2 6 1 ... 4 2 8] [8 4 4 ... 0 0 3]\n",
      "0.17898305084745764\n",
      "Iteration:  190\n",
      "[2 6 1 ... 4 2 8] [8 4 4 ... 0 0 3]\n",
      "0.18589830508474575\n",
      "Iteration:  200\n",
      "[2 6 1 ... 4 2 8] [8 4 4 ... 0 0 3]\n",
      "0.19222033898305085\n",
      "Iteration:  210\n",
      "[2 6 1 ... 4 2 8] [8 4 4 ... 0 0 3]\n",
      "0.19864406779661017\n",
      "Iteration:  220\n",
      "[2 6 1 ... 4 2 8] [8 4 4 ... 0 0 3]\n",
      "0.20511864406779662\n",
      "Iteration:  230\n",
      "[2 6 1 ... 4 2 8] [8 4 4 ... 0 0 3]\n",
      "0.2115084745762712\n",
      "Iteration:  240\n",
      "[2 6 1 ... 4 2 8] [8 4 4 ... 0 0 3]\n",
      "0.21833898305084745\n",
      "Iteration:  250\n",
      "[2 6 1 ... 4 2 8] [8 4 4 ... 0 0 3]\n",
      "0.2252372881355932\n",
      "Iteration:  260\n",
      "[2 6 6 ... 4 2 8] [8 4 4 ... 0 0 3]\n",
      "0.23235593220338982\n",
      "Iteration:  270\n",
      "[2 6 6 ... 4 2 8] [8 4 4 ... 0 0 3]\n",
      "0.23947457627118643\n",
      "Iteration:  280\n",
      "[2 6 6 ... 4 2 8] [8 4 4 ... 0 0 3]\n",
      "0.24661016949152542\n",
      "Iteration:  290\n",
      "[2 6 6 ... 4 2 8] [8 4 4 ... 0 0 3]\n",
      "0.25403389830508477\n",
      "Iteration:  300\n",
      "[2 6 6 ... 4 2 8] [8 4 4 ... 0 0 3]\n",
      "0.2612372881355932\n",
      "Iteration:  310\n",
      "[2 6 6 ... 4 2 8] [8 4 4 ... 0 0 3]\n",
      "0.26884745762711865\n",
      "Iteration:  320\n",
      "[2 6 6 ... 4 2 8] [8 4 4 ... 0 0 3]\n",
      "0.2763050847457627\n",
      "Iteration:  330\n",
      "[2 6 6 ... 4 2 8] [8 4 4 ... 0 0 3]\n",
      "0.28420338983050847\n",
      "Iteration:  340\n",
      "[2 6 6 ... 4 2 8] [8 4 4 ... 0 0 3]\n",
      "0.2912542372881356\n",
      "Iteration:  350\n",
      "[2 6 6 ... 4 2 8] [8 4 4 ... 0 0 3]\n",
      "0.2981864406779661\n",
      "Iteration:  360\n",
      "[2 6 6 ... 4 2 8] [8 4 4 ... 0 0 3]\n",
      "0.306\n",
      "Iteration:  370\n",
      "[2 6 6 ... 4 2 8] [8 4 4 ... 0 0 3]\n",
      "0.3125084745762712\n",
      "Iteration:  380\n",
      "[2 6 6 ... 4 2 8] [8 4 4 ... 0 0 3]\n",
      "0.3195084745762712\n",
      "Iteration:  390\n",
      "[2 6 6 ... 4 2 8] [8 4 4 ... 0 0 3]\n",
      "0.326593220338983\n",
      "Iteration:  400\n",
      "[2 6 6 ... 0 2 8] [8 4 4 ... 0 0 3]\n",
      "0.3324406779661017\n",
      "Iteration:  410\n",
      "[2 6 6 ... 0 2 8] [8 4 4 ... 0 0 3]\n",
      "0.3387457627118644\n",
      "Iteration:  420\n",
      "[2 6 6 ... 0 2 8] [8 4 4 ... 0 0 3]\n",
      "0.3452542372881356\n",
      "Iteration:  430\n",
      "[2 6 6 ... 0 2 8] [8 4 4 ... 0 0 3]\n",
      "0.3506271186440678\n",
      "Iteration:  440\n",
      "[2 6 6 ... 0 2 8] [8 4 4 ... 0 0 3]\n",
      "0.3562542372881356\n",
      "Iteration:  450\n",
      "[2 6 6 ... 0 2 8] [8 4 4 ... 0 0 3]\n",
      "0.3618474576271186\n",
      "Iteration:  460\n",
      "[2 6 6 ... 0 2 8] [8 4 4 ... 0 0 3]\n",
      "0.36698305084745764\n",
      "Iteration:  470\n",
      "[2 6 6 ... 0 2 8] [8 4 4 ... 0 0 3]\n",
      "0.37277966101694915\n",
      "Iteration:  480\n",
      "[8 6 6 ... 0 2 8] [8 4 4 ... 0 0 3]\n",
      "0.37786440677966104\n",
      "Iteration:  490\n",
      "[8 6 6 ... 0 2 8] [8 4 4 ... 0 0 3]\n",
      "0.3828135593220339\n"
     ]
    }
   ],
   "source": [
    "W1, b1, W2, b2 = gradient_descent(X_train, Y_train, 0.010, 500)"
   ]
  },
  {
   "cell_type": "code",
   "execution_count": 14,
   "id": "eea132e5",
   "metadata": {},
   "outputs": [],
   "source": [
    "def make_predictions(X, W1, b1, W2, b2):\n",
    "    _, _, _, A2 = forward_prop(W1, b1, W2, b2, X)\n",
    "    predictions = get_predictions(A2)\n",
    "    return predictions\n",
    "\n",
    "def test_prediction(index, W1, b1, W2, b2):\n",
    "    current_image = X_train[:, index, None]\n",
    "    prediction = make_predictions(X_train[:, index, None], W1, b1, W2, b2)\n",
    "    label = Y_train[index]\n",
    "    print(\"Prediction: \", prediction)\n",
    "    print(\"Label: \", label)\n",
    "    \n",
    "    current_image = current_image.reshape((28, 28)) * 255\n",
    "    plt.gray()\n",
    "    plt.imshow(current_image, interpolation='nearest')\n",
    "    plt.show()"
   ]
  },
  {
   "cell_type": "code",
   "execution_count": 19,
   "id": "e9d67bfb",
   "metadata": {},
   "outputs": [
    {
     "name": "stdout",
     "output_type": "stream",
     "text": [
      "Prediction:  [8]\n",
      "Label:  8\n"
     ]
    },
    {
     "data": {
      "image/png": "[encoded data removed]",
      "text/plain": [
       "<Figure size 640x480 with 1 Axes>"
      ]
     },
     "metadata": {},
     "output_type": "display_data"
    },
    {
     "name": "stdout",
     "output_type": "stream",
     "text": [
      "Prediction:  [4]\n",
      "Label:  4\n"
     ]
    },
    {
     "data": {
      "image/png": "[encoded data removed]",
      "text/plain": [
       "<Figure size 640x480 with 1 Axes>"
      ]
     },
     "metadata": {},
     "output_type": "display_data"
    },
    {
     "name": "stdout",
     "output_type": "stream",
     "text": [
      "Prediction:  [4]\n",
      "Label:  4\n"
     ]
    },
    {
     "data": {
      "image/png": "[encoded data removed]",
      "text/plain": [
       "<Figure size 640x480 with 1 Axes>"
      ]
     },
     "metadata": {},
     "output_type": "display_data"
    },
    {
     "name": "stdout",
     "output_type": "stream",
     "text": [
      "Prediction:  [6]\n",
      "Label:  6\n"
     ]
    },
    {
     "data": {
      "image/png": "[encoded data removed]",
      "text/plain": [
       "<Figure size 640x480 with 1 Axes>"
      ]
     },
     "metadata": {},
     "output_type": "display_data"
    }
   ],
   "source": [
    "test_prediction(0, W1, b1, W2, b2)\n",
    "test_prediction(1, W1, b1, W2, b2)\n",
    "test_prediction(2, W1, b1, W2, b2)\n",
    "test_prediction(3, W1, b1, W2, b2)"
   ]
  },
  {
   "cell_type": "code",
   "execution_count": 20,
   "id": "b9b98aa5",
   "metadata": {},
   "outputs": [
    {
     "name": "stdout",
     "output_type": "stream",
     "text": [
      "[7 6 4 3 6 8 2 9 4 4 2 7 0 5 9 1 2 0 4 6 5 8 1 3 8 8 4 2 8 3 9 7 4 1 8 7 0\n",
      " 7 7 9 3 5 0 7 9 7 6 7 9 3 7 9 2 6 1 9 2 7 6 7 3 3 0 5 8 7 7 9 3 8 8 3 3 1\n",
      " 8 6 7 6 7 2 5 7 7 0 6 1 3 1 8 7 8 0 9 1 1 3 1 6 5 2 3 7 1 5 4 4 5 7 3 6 9\n",
      " 1 3 4 1 6 1 6 0 9 8 2 6 1 1 3 0 0 0 4 4 8 7 5 3 1 8 0 1 0 2 5 4 3 2 4 4 1\n",
      " 0 1 7 5 8 2 7 4 0 6 1 9 4 2 4 2 1 8 5 6 9 2 4 5 7 0 8 9 3 0 8 2 3 0 9 8 9\n",
      " 2 7 9 7 4 1 8 0 4 8 2 0 9 7 3 8 3 6 3 3 9 1 0 5 7 8 1 6 4 0 7 6 5 1 7 8 0\n",
      " 1 1 3 6 1 8 7 2 0 5 9 8 3 7 8 4 1 0 8 7 6 8 6 6 2 4 2 4 0 0 5 4 4 4 2 3 1\n",
      " 9 6 2 3 6 0 1 8 2 5 4 7 1 8 3 8 1 1 2 9 3 0 8 7 8 6 2 0 5 7 6 5 1 4 2 6 5\n",
      " 1 9 0 4 3 3 4 3 8 7 1 2 3 2 5 5 0 1 1 6 9 3 8 5 4 2 5 3 1 5 8 0 7 8 1 6 8\n",
      " 3 0 4 3 6 1 2 4 2 1 0 9 1 8 3 9 2 8 8 8 7 9 1 7 9 4 1 5 4 6 0 8 9 9 9 8 7\n",
      " 2 7 7 8 8 1 7 4 1 5 7 6 1 1 2 4 4 9 1 8 6 0 8 6 5 1 9 2 5 7 8 3 4 3 7 3 9\n",
      " 0 1 4 1 1 6 2 9 9 3 3 4 4 4 9 4 9 5 7 0 6 8 1 0 1 0 2 0 0 5 6 0 9 3 4 9 4\n",
      " 3 2 0 2 7 3 8 7 3 5 5 1 6 2 3 0 7 1 0 1 9 0 7 2 4 6 0 0 6 1 7 1 4 5 4 3 3\n",
      " 3 3 9 7 0 8 7 4 3 8 9 4 9 7 8 3 2 0 6 3 9 9 4 4 9 7 3 3 7 9 2 8 0 4 4 0 1\n",
      " 0 4 7 3 3 4 9 9 8 3 2 6 1 4 4 8 7 9 1 8 7 9 8 6 0 7 6 0 7 8 7 5 3 6 0 0 4\n",
      " 0 8 8 9 3 3 4 9 5 6 0 6 6 5 1 8 8 6 4 1 3 7 5 7 1 2 6 3 1 4 0 4 3 8 2 9 3\n",
      " 6 5 6 0 5 6 5 6 7 0 3 1 9 3 6 5 0 3 1 8 2 9 8 8 6 2 1 7 0 9 1 1 8 7 6 1 2\n",
      " 3 8 8 1 4 8 8 9 2 1 4 4 5 7 2 8 7 1 6 3 5 0 8 1 9 6 3 8 1 8 2 4 1 7 9 6 0\n",
      " 4 0 9 9 2 6 2 3 2 0 0 0 4 8 9 9 7 8 0 7 9 9 6 3 6 4 3 7 3 1 0 0 2 0 6 3 6\n",
      " 3 8 1 0 7 9 7 6 7 1 1 6 1 0 7 3 3 9 3 1 9 8 2 1 0 0 8 0 5 5 6 4 1 1 7 5 7\n",
      " 2 6 2 6 7 8 2 0 6 1 4 1 4 0 6 9 1 1 5 2 3 2 3 8 7 3 0 1 8 6 7 1 4 0 6 0 0\n",
      " 2 2 7 3 8 6 1 8 6 4 3 1 9 6 8 4 3 4 2 5 5 2 4 2 5 6 4 7 7 9 2 2 1 3 8 9 1\n",
      " 5 8 8 8 0 1 5 5 2 7 4 3 5 0 6 9 5 5 1 4 3 7 3 1 3 8 9 6 6 2 4 5 9 4 8 3 1\n",
      " 0 5 5 3 2 6 9 7 1 5 6 1 4 2 4 1 2 4 1 1 8 0 4 7 8 4 9 0 0 4 7 1 4 1 8 3 4\n",
      " 6 6 2 7 6 0 3 2 9 5 9 6 3 8 1 6 2 5 0 3 4 8 5 0 4 0 3 5 1 2 0 9 1 0 2 3 7\n",
      " 7 0 1 1 4 8 3 9 9 3 2 3 9 8 8 8 1 3 0 7 8 7 5 0 7 9 3 5 9 5 1 4 9 2 9 0 8\n",
      " 5 5 1 0 4 1 0 3 4 4 1 0 0 4 1 6 2 7 6 8 5 1 9 1 0 4 9 3 7 4 1 9 3 1 1 4 6\n",
      " 8] [7 6 4 3 8 8 2 9 4 4 2 7 0 5 9 1 2 6 4 6 8 9 1 3 8 8 9 3 8 3 9 7 4 1 8 2 0\n",
      " 7 9 9 3 9 0 7 9 7 6 7 9 3 7 9 2 6 1 9 2 7 6 7 5 3 0 8 8 7 7 4 3 8 2 3 5 1\n",
      " 8 4 7 6 7 2 5 7 7 0 6 1 3 1 8 7 8 0 9 1 2 7 1 6 5 2 3 7 1 5 4 4 5 7 3 2 9\n",
      " 4 3 4 1 6 1 6 0 9 8 2 6 1 1 3 0 5 0 4 4 8 7 5 3 1 8 0 1 6 2 5 4 3 2 4 4 1\n",
      " 0 1 7 5 8 2 7 4 6 6 7 9 4 8 4 2 1 8 2 6 9 2 4 8 7 5 8 4 3 0 8 2 3 0 4 8 8\n",
      " 2 7 4 9 4 1 2 0 9 8 2 0 4 7 3 8 3 6 3 3 3 1 0 5 7 3 1 2 4 6 7 6 5 1 7 2 0\n",
      " 1 8 3 5 1 8 7 2 0 3 9 8 1 9 8 4 1 0 1 7 6 8 6 6 2 4 2 4 0 0 5 4 4 6 2 3 1\n",
      " 8 6 2 3 6 0 1 8 8 8 4 0 1 8 3 8 1 1 2 4 3 0 8 7 8 6 2 0 5 7 6 5 1 4 2 6 5\n",
      " 1 9 0 9 3 3 4 3 2 7 1 2 9 2 8 5 0 1 1 6 9 3 3 8 4 9 5 3 1 5 8 0 7 8 1 6 8\n",
      " 3 0 4 3 6 1 2 4 6 1 2 4 1 8 3 9 2 8 8 8 7 9 1 7 9 9 1 5 4 6 5 8 9 9 9 8 7\n",
      " 2 7 7 8 9 1 7 4 1 5 9 6 1 1 2 4 4 9 1 8 6 0 8 6 5 7 9 2 5 7 8 3 4 4 7 3 9\n",
      " 0 1 4 1 1 6 2 9 9 3 2 4 4 9 9 4 9 5 9 0 6 8 1 0 1 0 2 0 0 5 6 0 0 3 4 9 9\n",
      " 3 2 0 2 7 3 8 7 3 5 5 1 6 2 3 0 7 1 0 3 9 0 3 2 4 2 0 0 6 1 7 1 4 5 7 3 3\n",
      " 3 3 9 7 0 8 7 4 3 2 4 5 9 7 8 3 2 0 6 3 9 4 4 4 9 7 3 3 7 9 2 8 0 4 4 0 1\n",
      " 0 4 7 3 3 6 9 9 5 5 2 6 1 6 4 8 7 9 1 8 7 9 8 2 0 7 6 0 7 8 7 0 3 6 5 0 4\n",
      " 0 8 1 9 8 3 4 9 5 6 0 6 6 8 7 8 8 2 4 1 3 9 5 7 1 6 6 8 1 4 0 5 3 8 2 9 3\n",
      " 6 5 4 0 5 6 5 6 7 0 3 1 9 3 6 5 0 3 1 8 2 9 3 8 6 2 1 3 0 9 1 1 4 7 6 1 7\n",
      " 3 8 8 1 4 5 8 9 2 1 4 4 5 7 9 8 2 1 6 3 5 0 8 1 9 6 3 2 1 8 2 4 1 7 9 6 0\n",
      " 4 0 8 4 2 6 2 3 2 0 0 0 4 8 4 9 7 8 0 9 9 9 6 3 6 4 3 7 3 1 0 0 2 0 5 3 6\n",
      " 3 8 1 0 7 9 7 6 7 1 1 6 1 0 7 3 3 9 8 1 4 8 2 1 0 0 8 0 5 5 6 4 7 1 7 5 7\n",
      " 2 6 2 8 7 8 2 0 6 1 4 1 4 0 6 9 1 1 5 2 3 3 3 8 7 3 0 1 8 6 7 1 4 5 2 0 0\n",
      " 2 2 8 3 4 6 1 8 6 4 3 1 9 2 8 4 3 4 2 1 5 2 9 2 9 8 4 7 7 9 8 2 1 3 8 9 1\n",
      " 5 8 2 8 0 1 5 5 1 7 4 3 3 6 5 9 5 8 7 4 3 7 3 1 3 8 9 6 2 6 4 5 9 4 8 5 1\n",
      " 0 4 5 2 2 2 9 7 3 5 6 1 4 2 4 1 8 9 1 1 8 0 4 7 4 4 4 0 0 4 9 1 4 1 8 8 4\n",
      " 6 6 2 7 3 0 3 2 9 5 8 6 3 8 1 6 2 5 0 3 4 8 6 0 4 0 3 5 1 4 0 7 1 0 2 3 4\n",
      " 7 0 1 1 4 8 3 9 3 3 2 3 9 8 8 8 1 3 0 7 8 7 5 0 7 4 3 5 9 5 1 4 9 2 9 0 8\n",
      " 5 5 9 0 4 1 0 3 4 4 1 0 0 4 1 8 2 7 8 8 5 1 9 1 0 4 4 5 7 4 1 9 3 1 1 4 6\n",
      " 9]\n"
     ]
    },
    {
     "data": {
      "text/plain": [
       "0.84"
      ]
     },
     "execution_count": 20,
     "metadata": {},
     "output_type": "execute_result"
    }
   ],
   "source": [
    "dev_predictions = make_predictions(X_dev, W1, b1, W2, b2)\n",
    "get_accuracy(dev_predictions, Y_dev)"
   ]
  },
  {
   "cell_type": "code",
   "execution_count": null,
   "id": "3bb1c9eb",
   "metadata": {},
   "outputs": [],
   "source": []
  }
 ],
 "metadata": {
  "kernelspec": {
   "display_name": "Python 3 (ipykernel)",
   "language": "python",
   "name": "python3"
  },
  "language_info": {
   "codemirror_mode": {
    "name": "ipython",
    "version": 3
   },
   "file_extension": ".py",
   "mimetype": "text/x-python",
   "name": "python",
   "nbconvert_exporter": "python",
   "pygments_lexer": "ipython3",
   "version": "3.10.9"
  }
 },
 "nbformat": 4,
 "nbformat_minor": 5
}
